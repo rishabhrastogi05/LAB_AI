{
  "nbformat": 4,
  "nbformat_minor": 0,
  "metadata": {
    "colab": {
      "provenance": []
    },
    "kernelspec": {
      "name": "python3",
      "display_name": "Python 3"
    },
    "language_info": {
      "name": "python"
    }
  },
  "cells": [
    {
      "cell_type": "markdown",
      "metadata": {
        "id": "j1NP_K3rAGY-"
      },
      "source": [
        "### 1). Write down the “Movie Recommendation” as a Reinforcement Learning problem formulation. Use comment lines for proper documentation.:\n",
        "\n",
        "\n",
        "The problem formulation:\n",
        "- State: A user's movie preferences and history of watched movies. It can also include the user's movie ratings, genres of movies the user has watched, the user's demographic information, and other relevant features\n",
        "- Action: Recommend a movie to the user (a set of recommended movies or a continuous score for each movie that the algorithm scores for recommending)\n",
        "- Reward: A positive reward if the recommended movie is watched and liked by the user, a negative reward otherwise\n",
        "- Policy: The algorithm should learn a policy that maximizes the expected long-term reward by recommending movies that the user is likely to enjoy"
      ]
    },
    {
      "cell_type": "markdown",
      "source": [
        "### Installing, Importing required libraries"
      ],
      "metadata": {
        "id": "RC3QqgvdolsI"
      }
    },
    {
      "cell_type": "code",
      "execution_count": 1,
      "metadata": {
        "colab": {
          "base_uri": "https://localhost:8080/"
        },
        "id": "GcixSLWG_VVF",
        "outputId": "a176422c-4a99-4085-983e-2677b7ae6a9a"
      },
      "outputs": [
        {
          "output_type": "stream",
          "name": "stdout",
          "text": [
            "Looking in indexes: https://pypi.org/simple, https://us-python.pkg.dev/colab-wheels/public/simple/\n",
            "Collecting tf-agents\n",
            "  Downloading tf_agents-0.15.0-py3-none-any.whl (1.4 MB)\n",
            "\u001b[2K     \u001b[90m━━━━━━━━━━━━━━━━━━━━━━━━━━━━━━━━━━━━━━━━\u001b[0m \u001b[32m1.4/1.4 MB\u001b[0m \u001b[31m17.8 MB/s\u001b[0m eta \u001b[36m0:00:00\u001b[0m\n",
            "\u001b[?25hRequirement already satisfied: cloudpickle>=1.3 in /usr/local/lib/python3.9/dist-packages (from tf-agents) (2.2.1)\n",
            "Requirement already satisfied: gin-config>=0.4.0 in /usr/local/lib/python3.9/dist-packages (from tf-agents) (0.5.0)\n",
            "Requirement already satisfied: tensorflow-probability>=0.18.0 in /usr/local/lib/python3.9/dist-packages (from tf-agents) (0.19.0)\n",
            "Requirement already satisfied: typing-extensions>=3.7.4.3 in /usr/local/lib/python3.9/dist-packages (from tf-agents) (4.5.0)\n",
            "Requirement already satisfied: wrapt>=1.11.1 in /usr/local/lib/python3.9/dist-packages (from tf-agents) (1.15.0)\n",
            "Collecting pygame==2.1.0\n",
            "  Downloading pygame-2.1.0-cp39-cp39-manylinux_2_17_x86_64.manylinux2014_x86_64.whl (18.3 MB)\n",
            "\u001b[2K     \u001b[90m━━━━━━━━━━━━━━━━━━━━━━━━━━━━━━━━━━━━━━━━\u001b[0m \u001b[32m18.3/18.3 MB\u001b[0m \u001b[31m56.2 MB/s\u001b[0m eta \u001b[36m0:00:00\u001b[0m\n",
            "\u001b[?25hRequirement already satisfied: absl-py>=0.6.1 in /usr/local/lib/python3.9/dist-packages (from tf-agents) (1.4.0)\n",
            "Requirement already satisfied: numpy>=1.13.3 in /usr/local/lib/python3.9/dist-packages (from tf-agents) (1.22.4)\n",
            "Collecting gym<=0.23.0,>=0.17.0\n",
            "  Downloading gym-0.23.0.tar.gz (624 kB)\n",
            "\u001b[2K     \u001b[90m━━━━━━━━━━━━━━━━━━━━━━━━━━━━━━━━━━━━━━\u001b[0m \u001b[32m624.4/624.4 KB\u001b[0m \u001b[31m40.9 MB/s\u001b[0m eta \u001b[36m0:00:00\u001b[0m\n",
            "\u001b[?25h  Installing build dependencies ... \u001b[?25l\u001b[?25hdone\n",
            "  Getting requirements to build wheel ... \u001b[?25l\u001b[?25hdone\n",
            "  Preparing metadata (pyproject.toml) ... \u001b[?25l\u001b[?25hdone\n",
            "Requirement already satisfied: pillow in /usr/local/lib/python3.9/dist-packages (from tf-agents) (8.4.0)\n",
            "Requirement already satisfied: six>=1.10.0 in /usr/local/lib/python3.9/dist-packages (from tf-agents) (1.16.0)\n",
            "Requirement already satisfied: protobuf>=3.11.3 in /usr/local/lib/python3.9/dist-packages (from tf-agents) (3.19.6)\n",
            "Requirement already satisfied: importlib-metadata>=4.10.0 in /usr/local/lib/python3.9/dist-packages (from gym<=0.23.0,>=0.17.0->tf-agents) (6.0.0)\n",
            "Requirement already satisfied: gym-notices>=0.0.4 in /usr/local/lib/python3.9/dist-packages (from gym<=0.23.0,>=0.17.0->tf-agents) (0.0.8)\n",
            "Requirement already satisfied: dm-tree in /usr/local/lib/python3.9/dist-packages (from tensorflow-probability>=0.18.0->tf-agents) (0.1.8)\n",
            "Requirement already satisfied: decorator in /usr/local/lib/python3.9/dist-packages (from tensorflow-probability>=0.18.0->tf-agents) (4.4.2)\n",
            "Requirement already satisfied: gast>=0.3.2 in /usr/local/lib/python3.9/dist-packages (from tensorflow-probability>=0.18.0->tf-agents) (0.4.0)\n",
            "Requirement already satisfied: zipp>=0.5 in /usr/local/lib/python3.9/dist-packages (from importlib-metadata>=4.10.0->gym<=0.23.0,>=0.17.0->tf-agents) (3.15.0)\n",
            "Building wheels for collected packages: gym\n",
            "  Building wheel for gym (pyproject.toml) ... \u001b[?25l\u001b[?25hdone\n",
            "  Created wheel for gym: filename=gym-0.23.0-py3-none-any.whl size=697663 sha256=a2e0cc013e77f40221cfd90a53362a40cb372b3c6e8fb982ec1bac3405d72dcc\n",
            "  Stored in directory: /root/.cache/pip/wheels/96/b9/bb/994c1324b65e39dd1cd7b8ba92e5fb766dd77980929414a866\n",
            "Successfully built gym\n",
            "Installing collected packages: pygame, gym, tf-agents\n",
            "  Attempting uninstall: gym\n",
            "    Found existing installation: gym 0.25.2\n",
            "    Uninstalling gym-0.25.2:\n",
            "      Successfully uninstalled gym-0.25.2\n",
            "Successfully installed gym-0.23.0 pygame-2.1.0 tf-agents-0.15.0\n"
          ]
        }
      ],
      "source": [
        "!pip install tf-agents"
      ]
    },
    {
      "cell_type": "code",
      "execution_count": 2,
      "metadata": {
        "colab": {
          "base_uri": "https://localhost:8080/"
        },
        "id": "2RIskldKvJlT",
        "outputId": "a0d6ffbf-a247-40e2-f20e-ccb3a51753ed"
      },
      "outputs": [
        {
          "output_type": "stream",
          "name": "stdout",
          "text": [
            "  % Total    % Received % Xferd  Average Speed   Time    Time     Time  Current\n",
            "                                 Dload  Upload   Total   Spent    Left  Speed\n",
            "100 4808k  100 4808k    0     0  12.8M      0 --:--:-- --:--:-- --:--:-- 12.8M\n",
            "Archive:  ml-100k.zip\n",
            "   creating: ml-100k/\n",
            "  inflating: ml-100k/allbut.pl       \n",
            "  inflating: ml-100k/mku.sh          \n",
            "  inflating: ml-100k/README          \n",
            "  inflating: ml-100k/u.data          \n",
            "  inflating: ml-100k/u.genre         \n",
            "  inflating: ml-100k/u.info          \n",
            "  inflating: ml-100k/u.item          \n",
            "  inflating: ml-100k/u.occupation    \n",
            "  inflating: ml-100k/u.user          \n",
            "  inflating: ml-100k/u1.base         \n",
            "  inflating: ml-100k/u1.test         \n",
            "  inflating: ml-100k/u2.base         \n",
            "  inflating: ml-100k/u2.test         \n",
            "  inflating: ml-100k/u3.base         \n",
            "  inflating: ml-100k/u3.test         \n",
            "  inflating: ml-100k/u4.base         \n",
            "  inflating: ml-100k/u4.test         \n",
            "  inflating: ml-100k/u5.base         \n",
            "  inflating: ml-100k/u5.test         \n",
            "  inflating: ml-100k/ua.base         \n",
            "  inflating: ml-100k/ua.test         \n",
            "  inflating: ml-100k/ub.base         \n",
            "  inflating: ml-100k/ub.test         \n"
          ]
        }
      ],
      "source": [
        "!curl -o ml-100k.zip https://files.grouplens.org/datasets/movielens/ml-100k.zip && unzip ml-100k.zip "
      ]
    },
    {
      "cell_type": "code",
      "execution_count": 3,
      "metadata": {
        "id": "7Vw-C0bm2zAJ"
      },
      "outputs": [],
      "source": [
        "from __future__ import absolute_import\n",
        "from __future__ import division\n",
        "from __future__ import print_function\n",
        "\n",
        "import functools\n",
        "import os\n",
        "from absl import app\n",
        "\n",
        "import tf_agents\n",
        "import tensorflow as tf  # pylint: disable=g-explicit-tensorflow-version-import\n",
        "from tf_agents.bandits.agents import dropout_thompson_sampling_agent as dropout_ts_agent\n",
        "from tf_agents.bandits.agents import lin_ucb_agent\n",
        "from tf_agents.bandits.agents import linear_thompson_sampling_agent as lin_ts_agent\n",
        "from tf_agents.bandits.agents import neural_epsilon_greedy_agent as eps_greedy_agent\n",
        "from tf_agents.bandits.agents.examples.v2 import trainer\n",
        "from tf_agents.bandits.environments import environment_utilities\n",
        "from tf_agents.bandits.environments import movielens_per_arm_py_environment\n",
        "from tf_agents.bandits.environments import movielens_py_environment\n",
        "from tf_agents.bandits.metrics import tf_metrics as tf_bandit_metrics\n",
        "from tf_agents.bandits.networks import global_and_arm_feature_network\n",
        "from tf_agents.replay_buffers import tf_uniform_replay_buffer\n",
        "from tf_agents.drivers import driver\n",
        "from tf_agents.drivers import dynamic_step_driver\n",
        "from tf_agents.environments import tf_py_environment\n",
        "from tf_agents.networks import q_network\n",
        "\n",
        "import matplotlib.pyplot as plt\n",
        "import numpy as np"
      ]
    },
    {
      "cell_type": "markdown",
      "source": [
        "### Defining variables"
      ],
      "metadata": {
        "id": "KYMHZ5HsotZP"
      }
    },
    {
      "cell_type": "code",
      "source": [
        "BATCH_SIZE = 8\n",
        "TRAINING_LOOPS = 1000\n",
        "STEPS_PER_LOOP = 2\n",
        "\n",
        "RANK_K = 20\n",
        "NUM_ACTIONS = 20\n",
        "\n",
        "# LinUCB agent constants.\n",
        "\n",
        "AGENT_ALPHA = 10.0\n",
        "\n",
        "# epsilon Greedy constants.\n",
        "\n",
        "EPSILON = 0.05\n",
        "LAYERS = (50, 50, 50)\n",
        "LR = 0.005\n",
        "\n",
        "# Dropout TS constants.\n",
        "DROPOUT_RATE = 0.2"
      ],
      "metadata": {
        "id": "B74bYExEov7M"
      },
      "execution_count": 4,
      "outputs": []
    },
    {
      "cell_type": "markdown",
      "source": [
        "### Training the three agents"
      ],
      "metadata": {
        "id": "JrErhLS1oxEc"
      }
    },
    {
      "cell_type": "code",
      "execution_count": 5,
      "metadata": {
        "id": "2_8lUifa7pCY"
      },
      "outputs": [],
      "source": [
        "tf.compat.v1.enable_v2_behavior() \n",
        "\n",
        "data_path = \"/content/ml-100k/u.data\"   \n",
        "  \n",
        "env = movielens_py_environment.MovieLensPyEnvironment(\n",
        "        data_path,\n",
        "        RANK_K,\n",
        "        BATCH_SIZE,\n",
        "        num_movies=NUM_ACTIONS,\n",
        "        csv_delimiter='\\t')\n",
        "environment = tf_py_environment.TFPyEnvironment(env)\n",
        "\n",
        "optimal_reward_fn = functools.partial(\n",
        "      environment_utilities.compute_optimal_reward_with_movielens_environment,\n",
        "      environment=environment)\n",
        "\n",
        "optimal_action_fn = functools.partial(\n",
        "      environment_utilities.compute_optimal_action_with_movielens_environment,\n",
        "      environment=environment)"
      ]
    },
    {
      "cell_type": "code",
      "source": [
        "def train(agent):\n",
        "\n",
        "  replay_buffer = tf_uniform_replay_buffer.TFUniformReplayBuffer(\n",
        "    data_spec=agent.policy.trajectory_spec,\n",
        "    batch_size=BATCH_SIZE,\n",
        "    max_length=STEPS_PER_LOOP)\n",
        "\n",
        "  observers = [replay_buffer.add_batch, regret_metric]\n",
        "\n",
        "  driver = dynamic_step_driver.DynamicStepDriver(\n",
        "      env=environment,\n",
        "      policy=agent.collect_policy,\n",
        "      num_steps=STEPS_PER_LOOP * BATCH_SIZE,\n",
        "      observers=observers)\n",
        "\n",
        "  regret_values = []\n",
        "\n",
        "  for _ in range(TRAINING_LOOPS):\n",
        "    driver.run()\n",
        "    loss_info = agent.train(replay_buffer.gather_all())\n",
        "    replay_buffer.clear()\n",
        "    regret_values.append(regret_metric.result())\n",
        "\n",
        "  return regret_values, agent"
      ],
      "metadata": {
        "id": "1s_6zeJVnJ05"
      },
      "execution_count": 6,
      "outputs": []
    },
    {
      "cell_type": "code",
      "execution_count": 7,
      "metadata": {
        "colab": {
          "base_uri": "https://localhost:8080/",
          "height": 402
        },
        "id": "Gp5EqrHu_TFT",
        "outputId": "a910c135-417b-4688-acf7-cf860c23206b"
      },
      "outputs": [
        {
          "output_type": "stream",
          "name": "stdout",
          "text": [
            "LinUCB\n"
          ]
        },
        {
          "output_type": "stream",
          "name": "stderr",
          "text": [
            "WARNING:tensorflow:From <ipython-input-6-9dec915aa55e>:20: ReplayBuffer.gather_all (from tf_agents.replay_buffers.replay_buffer) is deprecated and will be removed in a future version.\n",
            "Instructions for updating:\n",
            "Use `as_dataset(..., single_deterministic_pass=True)` instead.\n"
          ]
        },
        {
          "output_type": "execute_result",
          "data": {
            "text/plain": [
              "Text(0, 0.5, 'Average Regret')"
            ]
          },
          "metadata": {},
          "execution_count": 7
        },
        {
          "output_type": "display_data",
          "data": {
            "text/plain": [
              "<Figure size 432x288 with 1 Axes>"
            ],
            "image/png": "[encoded data removed]"
          },
          "metadata": {
            "needs_background": "light"
          }
        }
      ],
      "source": [
        "print(\"LinUCB\")\n",
        "agent1 = lin_ucb_agent.LinearUCBAgent(\n",
        "        time_step_spec=environment.time_step_spec(),\n",
        "        action_spec=environment.action_spec(),\n",
        "        tikhonov_weight=0.001,\n",
        "        alpha=AGENT_ALPHA,\n",
        "        dtype=tf.float32,\n",
        "        accepts_per_arm_features=False)\n",
        "\n",
        "regret_metric = tf_bandit_metrics.RegretMetric(optimal_reward_fn)\n",
        "suboptimal_arms_metric = tf_bandit_metrics.SuboptimalArmsMetric(\n",
        "      optimal_action_fn)\n",
        "\n",
        "regret_values_1, agent1 = train(agent1)\n",
        "plt.plot(regret_values_1)\n",
        "plt.title('Regret over Timesteps LinUCB')\n",
        "plt.xlabel('Iterations')\n",
        "plt.ylabel('Average Regret')"
      ]
    },
    {
      "cell_type": "code",
      "execution_count": 8,
      "metadata": {
        "id": "KEsQWarf_YPC",
        "colab": {
          "base_uri": "https://localhost:8080/",
          "height": 330
        },
        "outputId": "cff24f61-240f-48fe-d5cf-df44d8022ef4"
      },
      "outputs": [
        {
          "output_type": "stream",
          "name": "stdout",
          "text": [
            "LinTS\n"
          ]
        },
        {
          "output_type": "execute_result",
          "data": {
            "text/plain": [
              "Text(0, 0.5, 'Average Regret')"
            ]
          },
          "metadata": {},
          "execution_count": 8
        },
        {
          "output_type": "display_data",
          "data": {
            "text/plain": [
              "<Figure size 432x288 with 1 Axes>"
            ],
            "image/png": "[encoded data removed]"
          },
          "metadata": {
            "needs_background": "light"
          }
        }
      ],
      "source": [
        "print(\"LinTS\")\n",
        "agent2 = lin_ts_agent.LinearThompsonSamplingAgent(\n",
        "        time_step_spec=environment.time_step_spec(),\n",
        "        action_spec=environment.action_spec(),\n",
        "        dtype=tf.float32,\n",
        "        accepts_per_arm_features=False)\n",
        "\n",
        "regret_metric = tf_bandit_metrics.RegretMetric(optimal_reward_fn)\n",
        "suboptimal_arms_metric = tf_bandit_metrics.SuboptimalArmsMetric(\n",
        "      optimal_action_fn)\n",
        "\n",
        "regret_values_2, agent2 = train(agent2)\n",
        "plt.plot(regret_values_2)\n",
        "plt.title('Regret over Timesteps LinTS')\n",
        "plt.xlabel('Iterations')\n",
        "plt.ylabel('Average Regret')"
      ]
    },
    {
      "cell_type": "code",
      "execution_count": 9,
      "metadata": {
        "id": "Owo-66b7_YGF",
        "colab": {
          "base_uri": "https://localhost:8080/",
          "height": 330
        },
        "outputId": "15efb719-3c38-4dc7-e780-11370a3f724c"
      },
      "outputs": [
        {
          "output_type": "stream",
          "name": "stdout",
          "text": [
            "NeuralEpsilonGreedy\n"
          ]
        },
        {
          "output_type": "execute_result",
          "data": {
            "text/plain": [
              "Text(0, 0.5, 'Average Regret')"
            ]
          },
          "metadata": {},
          "execution_count": 9
        },
        {
          "output_type": "display_data",
          "data": {
            "text/plain": [
              "<Figure size 432x288 with 1 Axes>"
            ],
            "image/png": "[encoded data removed]"
          },
          "metadata": {
            "needs_background": "light"
          }
        }
      ],
      "source": [
        "print(\"NeuralEpsilonGreedy\")\n",
        "network = q_network.QNetwork(\n",
        "          input_tensor_spec=environment.time_step_spec().observation,\n",
        "          action_spec=environment.action_spec(),\n",
        "          fc_layer_params=LAYERS)\n",
        "agent3 = eps_greedy_agent.NeuralEpsilonGreedyAgent(\n",
        "        time_step_spec=environment.time_step_spec(),\n",
        "        action_spec=environment.action_spec(),\n",
        "        reward_network=network,\n",
        "        optimizer=tf.compat.v1.train.AdamOptimizer(learning_rate=LR),\n",
        "        epsilon=EPSILON,\n",
        "        emit_policy_info='predicted_rewards_mean',\n",
        "        info_fields_to_inherit_from_greedy=['predicted_rewards_mean'])\n",
        "\n",
        "regret_metric = tf_bandit_metrics.RegretMetric(optimal_reward_fn)\n",
        "suboptimal_arms_metric = tf_bandit_metrics.SuboptimalArmsMetric(\n",
        "      optimal_action_fn)\n",
        "\n",
        "regret_values_3, agent3 = train(agent3)\n",
        "plt.plot(regret_values_3)\n",
        "plt.title('Regret over Timesteps NeuralEpsilonGreedy')\n",
        "plt.xlabel('Iterations')\n",
        "plt.ylabel('Average Regret')"
      ]
    },
    {
      "cell_type": "markdown",
      "source": [
        "### Creating a recommendation policy and recommending on a random observation"
      ],
      "metadata": {
        "id": "yLZm8lMHo7TJ"
      }
    },
    {
      "cell_type": "code",
      "source": [
        "def recommendation(agent, observation):\n",
        "    time_step = tf_agents.trajectories.time_step.TimeStep(\n",
        "        step_type=tf.constant([[2]], dtype=tf.int32),\n",
        "        reward=tf.constant([[0.0]], dtype=tf.float32),\n",
        "        discount=tf.constant([[1.0]], dtype=tf.float32),\n",
        "        observation=observation)\n",
        "    \n",
        "    action_step = agent.policy.action(time_step)\n",
        "    return action_step.action.numpy()[0]"
      ],
      "metadata": {
        "id": "RKZSs-jIoevd"
      },
      "execution_count": 10,
      "outputs": []
    },
    {
      "cell_type": "code",
      "source": [
        "observation = np.array([2, 47, 12, 7, 12, 10, 31, 4, 15, 11, 10, 20, 10, 20, 13, 14, 30, 20, 14, 21])\n",
        "observation = np.expand_dims(observation, axis=0)\n",
        "recommendation(agent2, observation=observation)"
      ],
      "metadata": {
        "id": "DzfYGnFCohxs",
        "colab": {
          "base_uri": "https://localhost:8080/"
        },
        "outputId": "742dcb38-16c3-4319-8ddf-cd4899e95c83"
      },
      "execution_count": 11,
      "outputs": [
        {
          "output_type": "execute_result",
          "data": {
            "text/plain": [
              "13"
            ]
          },
          "metadata": {},
          "execution_count": 11
        }
      ]
    }
  ]
}
