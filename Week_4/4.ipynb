{
  "nbformat": 4,
  "nbformat_minor": 0,
  "metadata": {
    "colab": {
      "provenance": []
    },
    "kernelspec": {
      "name": "python3",
      "display_name": "Python 3"
    },
    "language_info": {
      "name": "python"
    }
  },
  "cells": [
    {
      "cell_type": "markdown",
      "source": [
        "### **Checking for easyAI Installation**"
      ],
      "metadata": {
        "id": "Vmywr_dKsQJt"
      }
    },
    {
      "cell_type": "code",
      "source": [
        "!pip install easyAI"
      ],
      "metadata": {
        "colab": {
          "base_uri": "https://localhost:8080/"
        },
        "id": "L0E1OvUyaR7-",
        "outputId": "e2f816b6-d0e8-4caf-b1c4-24e9f8c818ec"
      },
      "execution_count": 1,
      "outputs": [
        {
          "output_type": "stream",
          "name": "stdout",
          "text": [
            "Looking in indexes: https://pypi.org/simple, https://us-python.pkg.dev/colab-wheels/public/simple/\n",
            "Collecting easyAI\n",
            "  Downloading easyAI-2.0.12-py3-none-any.whl (42 kB)\n",
            "\u001b[2K     \u001b[90m━━━━━━━━━━━━━━━━━━━━━━━━━━━━━━━━━━━━━━━━\u001b[0m \u001b[32m42.2/42.2 KB\u001b[0m \u001b[31m4.1 MB/s\u001b[0m eta \u001b[36m0:00:00\u001b[0m\n",
            "\u001b[?25hRequirement already satisfied: numpy in /usr/local/lib/python3.8/dist-packages (from easyAI) (1.22.4)\n",
            "Installing collected packages: easyAI\n",
            "Successfully installed easyAI-2.0.12\n"
          ]
        }
      ]
    },
    {
      "cell_type": "markdown",
      "source": [
        "### **Creating a Tic-Tac-Toe Game class extended from TwoPlayerGame**"
      ],
      "metadata": {
        "id": "P44H52zesWxm"
      }
    },
    {
      "cell_type": "code",
      "execution_count": 2,
      "metadata": {
        "id": "Q7d2hiGHZP4X"
      },
      "outputs": [],
      "source": [
        "from easyAI import TwoPlayerGame, Negamax, Human_Player, AI_Player\n",
        "class TicTacToe( TwoPlayerGame ):\n",
        "    \"\"\" The board positions are numbered as follows:\n",
        "            7 8 9\n",
        "            4 5 6\n",
        "            1 2 3\n",
        "    \"\"\"    \n",
        "\n",
        "    def __init__(self, players):\n",
        "        self.players = players\n",
        "        self.board = [0 for i in range(9)]\n",
        "        self.current_player = 1 # player 1 starts.\n",
        "    \n",
        "    def possible_moves(self):\n",
        "        return [i+1 for i,e in enumerate(self.board) if e==0]\n",
        "    \n",
        "    def make_move(self, move):\n",
        "        self.board[int(move)-1] = self.current_player\n",
        "\n",
        "    def unmake_move(self, move): # optional method (speeds up the AI)\n",
        "        self.board[int(move)-1] = 0\n",
        "    \n",
        "    def lose(self):\n",
        "        \"\"\" Has the opponent \"three in line ?\" \"\"\"\n",
        "        return any( [all([(self.board[c-1]== self.opponent_index)\n",
        "                      for c in line])\n",
        "                      for line in [[1,2,3],[4,5,6],[7,8,9], # horiz.\n",
        "                                   [1,4,7],[2,5,8],[3,6,9], # vertical\n",
        "                                   [1,5,9],[3,5,7]]]) # diagonal\n",
        "        \n",
        "    def is_over(self):\n",
        "        return (self.possible_moves() == []) or self.lose()\n",
        "        \n",
        "    def show(self):\n",
        "        print ('\\n'+'\\n'.join([\n",
        "                        ' '.join([['.','O','X'][self.board[3*j+i]]\n",
        "                        for i in range(3)])\n",
        "                 for j in range(3)]) )\n",
        "                 \n",
        "    def scoring(self):\n",
        "        return -100 if self.lose() else 0"
      ]
    },
    {
      "cell_type": "markdown",
      "source": [
        "### **Trying out the game with Negamax**"
      ],
      "metadata": {
        "id": "2LfHopNwseh-"
      }
    },
    {
      "cell_type": "code",
      "source": [
        "ai_algo = Negamax(6)\n",
        "game = TicTacToe([Human_Player(), AI_Player(ai_algo)])\n",
        "history = game.play()"
      ],
      "metadata": {
        "colab": {
          "base_uri": "https://localhost:8080/"
        },
        "id": "kUUoB63FaFoV",
        "outputId": "d42ddb27-240c-4dbb-d28b-5702e8ba8eff"
      },
      "execution_count": 3,
      "outputs": [
        {
          "output_type": "stream",
          "name": "stdout",
          "text": [
            "\n",
            ". . .\n",
            ". . .\n",
            ". . .\n",
            "\n",
            "Player 1 what do you play ? 3\n",
            "\n",
            "Move #1: player 1 plays 3 :\n",
            "\n",
            ". . O\n",
            ". . .\n",
            ". . .\n",
            "\n",
            "Move #2: player 2 plays 5 :\n",
            "\n",
            ". . O\n",
            ". X .\n",
            ". . .\n",
            "\n",
            "Player 1 what do you play ? 9\n",
            "\n",
            "Move #3: player 1 plays 9 :\n",
            "\n",
            ". . O\n",
            ". X .\n",
            ". . O\n",
            "\n",
            "Move #4: player 2 plays 6 :\n",
            "\n",
            ". . O\n",
            ". X X\n",
            ". . O\n",
            "\n",
            "Player 1 what do you play ? 4\n",
            "\n",
            "Move #5: player 1 plays 4 :\n",
            "\n",
            ". . O\n",
            "O X X\n",
            ". . O\n",
            "\n",
            "Move #6: player 2 plays 1 :\n",
            "\n",
            "X . O\n",
            "O X X\n",
            ". . O\n",
            "\n",
            "Player 1 what do you play ? 7\n",
            "\n",
            "Move #7: player 1 plays 7 :\n",
            "\n",
            "X . O\n",
            "O X X\n",
            "O . O\n",
            "\n",
            "Move #8: player 2 plays 8 :\n",
            "\n",
            "X . O\n",
            "O X X\n",
            "O X O\n",
            "\n",
            "Player 1 what do you play ? 2\n",
            "\n",
            "Move #9: player 1 plays 2 :\n",
            "\n",
            "X O O\n",
            "O X X\n",
            "O X O\n"
          ]
        }
      ]
    },
    {
      "cell_type": "markdown",
      "source": [
        "- **Negamax Algorithm :** The Negamax algorithm will always look for the shortest path to victory, or the longest path to defeat. It is possible to go faster by not optimizing this (the disadvantage being that the AI can then make suicidal moves if it has found that it will eventually lose against a perfect opponent). To do so, you must provide the argument win_score to Negamax which indicates above which score a score is considered a win. "
      ],
      "metadata": {
        "id": "B_BpV-1cqn8c"
      }
    },
    {
      "cell_type": "markdown",
      "source": [
        "### **Solving the Game :**"
      ],
      "metadata": {
        "id": "ah31DCoBsk6V"
      }
    },
    {
      "cell_type": "markdown",
      "source": [
        "- **Iterative Deepening**"
      ],
      "metadata": {
        "id": "wgvhFSSuspnt"
      }
    },
    {
      "cell_type": "code",
      "source": [
        "from easyAI import solve_with_iterative_deepening, solve_with_depth_first_search\n",
        "\n",
        "r,d,m = solve_with_iterative_deepening(game = game, ai_depths = range(2,20), win_score=100, verbose = False)\n",
        "\n",
        "if r == 1:\n",
        "  print(f'Win for Player 1 in depth = {d} and moves = {m}')\n",
        "elif r == -1:\n",
        "  print(f'Defeat for Player 1 in depth = {d} and moves = {m}')\n",
        "else:\n",
        "  print(f'Draw or search was not deep enough')\n"
      ],
      "metadata": {
        "colab": {
          "base_uri": "https://localhost:8080/"
        },
        "id": "FOIwIUeMjA-x",
        "outputId": "99c8296c-cac3-4345-eb0b-0532de9824c2"
      },
      "execution_count": 4,
      "outputs": [
        {
          "output_type": "stream",
          "name": "stdout",
          "text": [
            "Draw or search was not deep enough\n"
          ]
        }
      ]
    },
    {
      "cell_type": "markdown",
      "source": [
        "- **Depth First Search**"
      ],
      "metadata": {
        "id": "pYpKJrjDsw4G"
      }
    },
    {
      "cell_type": "code",
      "source": [
        "r = solve_with_depth_first_search(game = game, win_score=100)\n",
        "if r == 1:\n",
        "  print('Certain win for Player 1')\n",
        "elif r == -1:\n",
        "  print('Certain defeat for Player 1') \n",
        "else:\n",
        "  print('Draw or search was not deep enough')"
      ],
      "metadata": {
        "colab": {
          "base_uri": "https://localhost:8080/"
        },
        "id": "MVqTjLDLcxRj",
        "outputId": "fd5e11ea-d3c3-44ba-cf5a-de1bf4022c4e"
      },
      "execution_count": 5,
      "outputs": [
        {
          "output_type": "stream",
          "name": "stdout",
          "text": [
            "Draw or search was not deep enough\n"
          ]
        }
      ]
    },
    {
      "cell_type": "markdown",
      "source": [
        "### **Comparision between the above mentioned approaches :**\n",
        "\n",
        "- **Iterative Deepening** : It explores the game by using several times the Negamax algorithm, always starting at the initial state of the game, but taking increasing depth (in the list *ai_depths*) until the score of the initial condition indicates that the first player will certainly win or loose, at which case it stops.\n",
        "\n",
        "- **DFS** : It solves a game using a depth-first search (therefore it cannot be used for games that can have an infinite number of moves). The game is explored until endgames are reached and these endgames are evaluated to see if their are victories or defeats (or draws). Then, a situation in which every move leads to a defeat is labelled as a (certain) defeat, and a situation in which one move leads to a (certain) defeat of the opponent is labelled as a (certain) victory. This way we come back up to the root (initial condition) which receives a label, which is returned."
      ],
      "metadata": {
        "id": "iXlH5RR5pznu"
      }
    }
  ]
}
