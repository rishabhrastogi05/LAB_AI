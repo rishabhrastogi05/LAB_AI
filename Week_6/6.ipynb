{
  "nbformat": 4,
  "nbformat_minor": 0,
  "metadata": {
    "colab": {
      "provenance": []
    },
    "kernelspec": {
      "name": "python3",
      "display_name": "Python 3"
    },
    "language_info": {
      "name": "python"
    }
  },
  "cells": [
    {
      "cell_type": "markdown",
      "source": [
        "#### Q1. MAB agent formulation :\n",
        "##### The problem agent formulation involves determining the most optimal ad to display to a user at a given time instant to maximize the number of clicks on the webpage. \n",
        "\n",
        "The problem can be defined as :\n",
        "\n",
        " -- There are 10 different ads to choose from, and at each time step, the MAB agent must decide which ad to display to the user. \n",
        "\n",
        " -- Goal is to maximize the total number of clicks obtained from the users over a specified time horizon. \n",
        "\n",
        " -- Each ad has an unknown click-through rate (CTR) that represents the probability of a user clicking on that ad. \n",
        " \n",
        " -- The MAB agent's objective is to learn the true CTR of each ad while minimizing the regret, which is the difference between the expected number of clicks obtained by displaying the best ad and the expected number of clicks obtained by displaying the chosen ad at each time step. \n",
        " \n",
        " -- The MAB agent must balance the exploration of less-known ads to learn their CTRs with the exploitation of the ads that are known to have higher CTRs to maximize the total number of clicks."
      ],
      "metadata": {
        "id": "j1NP_K3rAGY-"
      }
    },
    {
      "cell_type": "code",
      "source": [
        "# Importing the libraries and loading dataset\n",
        "import numpy as np\n",
        "import matplotlib.pyplot as plt\n",
        "import pandas as pd\n",
        "import random\n",
        "\n",
        "ads_clicks = pd.read_csv('/content/Ads_Optimisation.csv')"
      ],
      "metadata": {
        "id": "0rkwk4WIDyEL"
      },
      "execution_count": 2,
      "outputs": []
    },
    {
      "cell_type": "code",
      "source": [
        "# Number of ads\n",
        "num_ads = len(ads_clicks.columns)\n",
        "print(num_ads)"
      ],
      "metadata": {
        "id": "t4fFqlsmE80o",
        "colab": {
          "base_uri": "https://localhost:8080/"
        },
        "outputId": "fdf9a5c4-0702-455d-b531-2e1f5eabdf90"
      },
      "execution_count": 3,
      "outputs": [
        {
          "output_type": "stream",
          "name": "stdout",
          "text": [
            "10\n"
          ]
        }
      ]
    },
    {
      "cell_type": "markdown",
      "source": [
        "#### Q2. Total rewards after 2000-time steps using the ε-greedy algorithm for \n",
        "-- ε=0.01 \n",
        "\n",
        "-- ε= 0.3"
      ],
      "metadata": {
        "id": "BE2iRcpraSe0"
      }
    },
    {
      "cell_type": "code",
      "source": [
        "# ε-greedy algorithm\n",
        "def epsilon_greedy(epsilon, rewards):\n",
        "    if random.uniform(0, 1) < epsilon:\n",
        "        # Explore: Choose a random ad\n",
        "        ad = random.randint(0, num_ads - 1)\n",
        "    else:\n",
        "        # Exploit: Choose the ad with the highest reward\n",
        "        ad = np.argmax(rewards)\n",
        "    return ad"
      ],
      "metadata": {
        "id": "v3fVLdk5Ltvc"
      },
      "execution_count": 4,
      "outputs": []
    },
    {
      "cell_type": "code",
      "source": [
        "# Initialize the rewards for each ad to 0 and create an empty list to store the rewards for each time step:\n",
        "rewards = [0] * num_ads\n",
        "total_rewards_01 = []\n",
        "total_rewards_03 = []"
      ],
      "metadata": {
        "id": "D8uusnFeLx6m"
      },
      "execution_count": 5,
      "outputs": []
    },
    {
      "cell_type": "code",
      "source": [
        "# Iterating the ε-greedy algorithm for 2000 time steps using ε=0.01 and ε=0.3\n",
        "\n",
        "for t in range(2000):\n",
        "\n",
        "    # Choosing ad using the epsilon-greedy algorithm with epsilon=0.01\n",
        "    ad_01 = epsilon_greedy(0.01, rewards)\n",
        "\n",
        "    # Choose the ad using the epsilon-greedy algorithm with epsilon=0.3\n",
        "    ad_03 = epsilon_greedy(0.3, rewards)\n",
        "    \n",
        "    # for epsilon = 0.01\n",
        "    # reward for the chosen ad\n",
        "    reward = ads_clicks.iloc[t][ad_01]\n",
        "    # Updating rewards for the chosen ad\n",
        "    rewards[ad_01] = rewards[ad_01] + reward\n",
        "    # Add the reward to the total rewards list for epsilon=0.01\n",
        "    total_rewards_01.append(sum(rewards))\n",
        "    \n",
        "    # for epsilon = 0.3\n",
        "    # reward for the chosen ad\n",
        "    reward = ads_clicks.iloc[t][ad_03]\n",
        "    # Updating rewards for the chosen ad\n",
        "    rewards[ad_03] = rewards[ad_03] + reward\n",
        "    # Add the reward to the total rewards list for epsilon=0.3\n",
        "    total_rewards_03.append(sum(rewards))"
      ],
      "metadata": {
        "id": "M6Y1Wo5xMMAe"
      },
      "execution_count": 6,
      "outputs": []
    },
    {
      "cell_type": "code",
      "source": [
        "print(\"Total rewards for ε=0.01: \", total_rewards_01[-1])\n",
        "print(\"Total rewards for ε=0.3: \", total_rewards_03[-1])"
      ],
      "metadata": {
        "id": "Wb06mc1mMPy_",
        "colab": {
          "base_uri": "https://localhost:8080/"
        },
        "outputId": "5b4e20ca-94f4-440c-c41c-9deae44354ab"
      },
      "execution_count": 7,
      "outputs": [
        {
          "output_type": "stream",
          "name": "stdout",
          "text": [
            "Total rewards for ε=0.01:  673\n",
            "Total rewards for ε=0.3:  673\n"
          ]
        }
      ]
    },
    {
      "cell_type": "markdown",
      "source": [
        "#### Q3. Compute the total rewards after 2000-time steps using the Upper-Confidence-Bound action method for c = 1.5"
      ],
      "metadata": {
        "id": "mARxbQyIZ901"
      }
    },
    {
      "cell_type": "code",
      "source": [
        "# Upper-Confidence-Bound algorithm\n",
        "def ucb(rewards, n, t, c=1.5):\n",
        "    # Calculate the average reward for each ad\n",
        "    average_rewards = rewards / n\n",
        "    # Calculate the upper confidence bound for each ad\n",
        "    ucb_values = average_rewards + c * np.sqrt(np.log(t + 1) / n)\n",
        "    # Choose the ad with the highest UCB value\n",
        "    ad = np.argmax(ucb_values)\n",
        "    return ad"
      ],
      "metadata": {
        "id": "Peu_lxpORHAk"
      },
      "execution_count": 8,
      "outputs": []
    },
    {
      "cell_type": "code",
      "source": [
        "# Initialize the rewards for each ad to 0 and create an empty list to store the rewards for each time step:\n",
        "rewards = np.zeros(num_ads)\n",
        "n = np.zeros(num_ads)\n",
        "total_rewards = []"
      ],
      "metadata": {
        "id": "4HYRi5R9U59r"
      },
      "execution_count": 9,
      "outputs": []
    },
    {
      "cell_type": "code",
      "source": [
        "# Iterating over Upper-Confidence-Bound algorithm for 2000 time steps using c=1.5:\n",
        "for t in range(2000):\n",
        "    # Choose the ad using the UCB algorithm\n",
        "    ad = ucb(rewards, n, t, c=1.5)\n",
        "    \n",
        "    # Get the reward for the chosen ad\n",
        "    reward = ads_clicks.iloc[t][ad]\n",
        "    # Update the rewards for the chosen ad\n",
        "    rewards[ad] = rewards[ad] + reward\n",
        "    # Update the number of times the ad has been selected\n",
        "    n[ad] = n[ad] + 1\n",
        "    # Add the reward to the total rewards list\n",
        "    total_rewards.append(sum(rewards))\n",
        "\n",
        "# Print the total rewards for c=1.5\n",
        "print(\"Total rewards for c=1.5: \", total_rewards[-1])"
      ],
      "metadata": {
        "id": "I8ZugbLbU-tE",
        "colab": {
          "base_uri": "https://localhost:8080/"
        },
        "outputId": "c69da80b-88e0-42b2-99d5-454983e2dc51"
      },
      "execution_count": 10,
      "outputs": [
        {
          "output_type": "stream",
          "name": "stderr",
          "text": [
            "<ipython-input-8-0d06a4c0df41>:4: RuntimeWarning: invalid value encountered in true_divide\n",
            "  average_rewards = rewards / n\n",
            "<ipython-input-8-0d06a4c0df41>:6: RuntimeWarning: invalid value encountered in true_divide\n",
            "  ucb_values = average_rewards + c * np.sqrt(np.log(t + 1) / n)\n",
            "<ipython-input-8-0d06a4c0df41>:6: RuntimeWarning: divide by zero encountered in true_divide\n",
            "  ucb_values = average_rewards + c * np.sqrt(np.log(t + 1) / n)\n"
          ]
        },
        {
          "output_type": "stream",
          "name": "stdout",
          "text": [
            "Total rewards for c=1.5:  323.0\n"
          ]
        }
      ]
    },
    {
      "cell_type": "markdown",
      "source": [
        "#### How the action value estimated compares to the optimal action in the ε-greedy approach :\n",
        "\n",
        "In the ε-greedy approach, action value is estimated using the **sample average method**, where the \"**estimated value of each action = average of the rewards received for that action**\". \n",
        "\n",
        "However, the sample average method can give large variance in the estimate if the number of samples is small. Thereby, the estimates may not converge to the true action values quickly. Hence, the ε-greedy approach tends to explore more at the beginning of the experiment to reduce uncertainty, and then exploit the best action based on the estimated action values later on.\n",
        "\n",
        "\n",
        "\n",
        "\n",
        "\n",
        "\n",
        "\n",
        "#### How the action value estimated compares to the optimal action in the UCB approach :\n",
        "\n",
        "The Upper-Confidence-Bound approach, on the other hand, estimates the action values using the **Upper Confidence Bound (UCB)**, which is a **combination of the average reward and an uncertainty term**. \n",
        "\n",
        "The uncertainty term ensures that actions that have not been selected many times are given a higher priority to be selected, while actions that have been selected many times are given a lower priority. This approach results in a more stable estimate of the action values, and the algorithm converges more quickly to the optimal action.\n",
        "\n"
      ],
      "metadata": {
        "id": "sSTFSOD7XvjU"
      }
    }
  ]
}
